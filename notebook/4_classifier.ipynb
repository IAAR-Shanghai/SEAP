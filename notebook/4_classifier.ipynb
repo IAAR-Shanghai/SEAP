{
 "cells": [
  {
   "cell_type": "code",
   "execution_count": 1,
   "metadata": {},
   "outputs": [
    {
     "name": "stderr",
     "output_type": "stream",
     "text": [
      "/home/hanyu/miniconda3/envs/llm_env/lib/python3.10/site-packages/tqdm/auto.py:21: TqdmWarning: IProgress not found. Please update jupyter and ipywidgets. See https://ipywidgets.readthedocs.io/en/stable/user_install.html\n",
      "  from .autonotebook import tqdm as notebook_tqdm\n"
     ]
    }
   ],
   "source": [
    "# notebooks/4_classifier.ipynb\n",
    "\n",
    "import sys\n",
    "import os\n",
    "import random\n",
    "import numpy as np\n",
    "import torch\n",
    "\n",
    "# Add the project root directory to sys.path for importing project modules\n",
    "project_root = os.path.abspath(\"..\")\n",
    "sys.path.append(project_root)\n",
    "\n",
    "# Import utility functions from the project\n",
    "from src.data_utils import load_datasets, create_balanced_tasks\n",
    "from src.model_utils import load_model_and_tokenizer, get_embeddings\n",
    "from src.classifier_utils import train_classifier, evaluate_classifier"
   ]
  },
  {
   "cell_type": "code",
   "execution_count": 2,
   "metadata": {},
   "outputs": [],
   "source": [
    "# Set Random Seed for Reproducibility\n",
    "SEED = 42\n",
    "\n",
    "torch.manual_seed(SEED)  # Set seed for PyTorch\n",
    "random.seed(SEED)  # Set seed for random\n",
    "np.random.seed(SEED)  # Set seed for NumPy"
   ]
  },
  {
   "cell_type": "code",
   "execution_count": 3,
   "metadata": {},
   "outputs": [],
   "source": [
    "# Model Configuration\n",
    "MODEL_NAME = \"Llama-2-7b-hf\"  # Name of the pre-trained model\n",
    "MODELS_ROOT_PATH = \"../../models\"  # Path to pre-trained models"
   ]
  },
  {
   "cell_type": "code",
   "execution_count": null,
   "metadata": {},
   "outputs": [],
   "source": [
    "# Load the pre-trained model and tokenizer\n",
    "model_name = MODEL_NAME\n",
    "root_path = MODELS_ROOT_PATH\n",
    "\n",
    "# Concatenate the model path\n",
    "model_path = os.path.join(root_path, model_name)"
   ]
  },
  {
   "cell_type": "code",
   "execution_count": 4,
   "metadata": {},
   "outputs": [
    {
     "name": "stderr",
     "output_type": "stream",
     "text": [
      "/home/hanyu/miniconda3/envs/llm_env/lib/python3.10/site-packages/transformers/generation/configuration_utils.py:777: UserWarning: `return_dict_in_generate` is NOT set to `True`, but `output_hidden_states` is. When `return_dict_in_generate` is not `True`, `output_hidden_states` is ignored.\n",
      "  warnings.warn(\n",
      "Loading checkpoint shards: 100%|██████████| 2/2 [00:02<00:00,  1.44s/it]\n"
     ]
    }
   ],
   "source": [
    "# Load model and tokenizer\n",
    "model, tokenizer = load_model_and_tokenizer(model_path)"
   ]
  },
  {
   "cell_type": "code",
   "execution_count": 5,
   "metadata": {},
   "outputs": [
    {
     "name": "stdout",
     "output_type": "stream",
     "text": [
      "Loaded winogrande dataset from train split, shape: (2558, 6)\n",
      "Loaded obqa dataset from train split, shape: (4957, 6)\n",
      "Loaded wikitext2 dataset from train split, shape: (36718, 6)\n",
      "Loaded gsm8k dataset from train split, shape: (7473, 6)\n",
      "Loaded ai2_arc dataset from train split, shape: (1119, 6)\n",
      "Loaded hellaswag dataset from train split, shape: (39905, 6)\n",
      "Loaded boolq dataset from train split, shape: (9427, 6)\n",
      "Loaded piqa dataset from train split, shape: (16113, 6)\n"
     ]
    }
   ],
   "source": [
    "# Load datasets\n",
    "data_dir = '../data/processed'\n",
    "datasets = load_datasets(data_dir, split='train')\n",
    "\n",
    "# Generate balanced tasks\n",
    "tasks = create_balanced_tasks(datasets, balanced=True, seed=42)\n"
   ]
  },
  {
   "cell_type": "code",
   "execution_count": 6,
   "metadata": {},
   "outputs": [],
   "source": [
    "# Extract Inputs and Task Types from Tasks\n",
    "inputs = [t['input'] for t in tasks]  # Extract inputs (questions)\n",
    "task_types = [t['task_type'] for t in tasks]  # Extract task types"
   ]
  },
  {
   "cell_type": "code",
   "execution_count": 7,
   "metadata": {},
   "outputs": [
    {
     "name": "stderr",
     "output_type": "stream",
     "text": [
      "Generating Embeddings: 100%|██████████| 8952/8952 [00:03<00:00, 2272.75input/s]\n"
     ]
    }
   ],
   "source": [
    "# Generate embeddings and labels\n",
    "embeddings, labels, task_type_to_label = get_embeddings(inputs, task_types, model, tokenizer)\n"
   ]
  },
  {
   "cell_type": "code",
   "execution_count": 8,
   "metadata": {},
   "outputs": [],
   "source": [
    "# Train the classifier\n",
    "clf, X_test, y_test = train_classifier(embeddings, labels, test_size=0.2, random_state=42)\n"
   ]
  },
  {
   "cell_type": "code",
   "execution_count": 9,
   "metadata": {},
   "outputs": [
    {
     "name": "stdout",
     "output_type": "stream",
     "text": [
      "              precision    recall  f1-score   support\n",
      "\n",
      "  winogrande       0.98      1.00      0.99       233\n",
      "        obqa       0.90      0.96      0.93       228\n",
      "   wikitext2       1.00      0.85      0.92       200\n",
      "       gsm8k       0.94      1.00      0.97       235\n",
      "     ai2_arc       0.98      0.84      0.91       228\n",
      "   hellaswag       0.89      0.97      0.92       229\n",
      "       boolq       0.87      0.97      0.92       221\n",
      "        piqa       0.93      0.86      0.89       217\n",
      "\n",
      "    accuracy                           0.93      1791\n",
      "   macro avg       0.94      0.93      0.93      1791\n",
      "weighted avg       0.94      0.93      0.93      1791\n",
      "\n"
     ]
    }
   ],
   "source": [
    "# Evaluate the classifier\n",
    "evaluate_classifier(clf, X_test, y_test, task_type_to_label)"
   ]
  }
 ],
 "metadata": {
  "kernelspec": {
   "display_name": "llm_env",
   "language": "python",
   "name": "python3"
  },
  "language_info": {
   "codemirror_mode": {
    "name": "ipython",
    "version": 3
   },
   "file_extension": ".py",
   "mimetype": "text/x-python",
   "name": "python",
   "nbconvert_exporter": "python",
   "pygments_lexer": "ipython3",
   "version": "3.10.15"
  }
 },
 "nbformat": 4,
 "nbformat_minor": 2
}
