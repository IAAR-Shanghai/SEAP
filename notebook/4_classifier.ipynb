{
 "cells": [
  {
   "cell_type": "code",
   "execution_count": 1,
   "metadata": {},
   "outputs": [],
   "source": [
    "import os\n",
    "os.environ[\"CUDA_VISIBLE_DEVICES\"] = \"6,7\""
   ]
  },
  {
   "cell_type": "code",
   "execution_count": 2,
   "metadata": {},
   "outputs": [],
   "source": [
    "# notebooks/4_classifier.ipynb\n",
    "import sys\n",
    "import os\n",
    "\n",
    "# 设置项目根目录为当前目录\n",
    "project_root = os.path.abspath(\"..\")\n",
    "sys.path.append(project_root)\n",
    "\n",
    "from src.data_utils import load_datasets, create_balanced_tasks\n",
    "from src.model_utils import load_model_and_tokenizer, get_embeddings\n",
    "from src.classifier_utils import train_classifier, evaluate_classifier\n",
    "import random\n",
    "import numpy as np\n",
    "import torch"
   ]
  },
  {
   "cell_type": "code",
   "execution_count": 3,
   "metadata": {},
   "outputs": [],
   "source": [
    "# 测试随机数种子\n",
    "SEED = 42\n",
    "\n",
    "torch.manual_seed(SEED)\n",
    "random.seed(SEED)\n",
    "np.random.seed(SEED)"
   ]
  },
  {
   "cell_type": "code",
   "execution_count": 4,
   "metadata": {},
   "outputs": [],
   "source": [
    "MODEL_NAME = \"Llama-2-7b-hf\"\n",
    "MODELS_ROOT_PATH = \"/mnt/data102_d2/huggingface/models\""
   ]
  },
  {
   "cell_type": "code",
   "execution_count": 5,
   "metadata": {},
   "outputs": [
    {
     "name": "stderr",
     "output_type": "stream",
     "text": [
      "/mnt/data131/hanyu/envs/llm_env/lib/python3.10/site-packages/transformers/generation/configuration_utils.py:818: UserWarning: `return_dict_in_generate` is NOT set to `True`, but `output_hidden_states` is. When `return_dict_in_generate` is not `True`, `output_hidden_states` is ignored.\n",
      "  warnings.warn(\n"
     ]
    },
    {
     "data": {
      "application/vnd.jupyter.widget-view+json": {
       "model_id": "f61bdd66304b4977ad27513bbbeed6d2",
       "version_major": 2,
       "version_minor": 0
      },
      "text/plain": [
       "Loading checkpoint shards:   0%|          | 0/2 [00:00<?, ?it/s]"
      ]
     },
     "metadata": {},
     "output_type": "display_data"
    }
   ],
   "source": [
    "# Load the pre-trained model and tokenizer\n",
    "model_name = MODEL_NAME\n",
    "root_path = MODELS_ROOT_PATH\n",
    "\n",
    "# 拼接完整的存储路径\n",
    "model_path = os.path.join(root_path, model_name)\n",
    "\n",
    "model, tokenizer = load_model_and_tokenizer(model_path)"
   ]
  },
  {
   "cell_type": "code",
   "execution_count": 6,
   "metadata": {},
   "outputs": [
    {
     "name": "stdout",
     "output_type": "stream",
     "text": [
      "Loaded hellaswag dataset from train split, shape: (39905, 4)\n",
      "Loaded gsm8k dataset from train split, shape: (7473, 4)\n",
      "Loaded winogrande dataset from train split, shape: (2558, 4)\n",
      "Loaded piqa dataset from train split, shape: (16113, 4)\n",
      "Loaded mmlu dataset from train split, shape: (99842, 4)\n",
      "Loaded ai2_arc dataset from train split, shape: (1119, 4)\n"
     ]
    }
   ],
   "source": [
    "# Load datasets\n",
    "data_dir = '../data/processed'\n",
    "datasets = load_datasets(data_dir, split='train')\n",
    "\n",
    "# Generate balanced tasks\n",
    "tasks = create_balanced_tasks(datasets, balanced=True, seed=42)\n"
   ]
  },
  {
   "cell_type": "code",
   "execution_count": 7,
   "metadata": {},
   "outputs": [],
   "source": [
    "# 将 tasks 分解为 inputs 和 task_types\n",
    "inputs = [t['input'] for t in tasks]\n",
    "task_types = [t['task_type'] for t in tasks]"
   ]
  },
  {
   "cell_type": "code",
   "execution_count": 8,
   "metadata": {},
   "outputs": [
    {
     "name": "stderr",
     "output_type": "stream",
     "text": [
      "Generating Embeddings: 100%|██████████| 6714/6714 [00:46<00:00, 143.07input/s]\n"
     ]
    }
   ],
   "source": [
    "# Generate embeddings and labels\n",
    "embeddings, labels, task_type_to_label = get_embeddings(inputs, task_types, model, tokenizer)\n",
    "\n"
   ]
  },
  {
   "cell_type": "code",
   "execution_count": 9,
   "metadata": {},
   "outputs": [],
   "source": [
    "# Train the classifier\n",
    "clf, X_test, y_test = train_classifier(embeddings, labels, test_size=0.2, random_state=42)\n"
   ]
  },
  {
   "cell_type": "code",
   "execution_count": 10,
   "metadata": {},
   "outputs": [
    {
     "name": "stdout",
     "output_type": "stream",
     "text": [
      "              precision    recall  f1-score   support\n",
      "\n",
      "   hellaswag       0.94      0.89      0.91       236\n",
      "       gsm8k       0.92      0.99      0.95       233\n",
      "  winogrande       0.98      0.99      0.98       218\n",
      "        piqa       0.88      0.91      0.89       201\n",
      "        mmlu       0.95      0.87      0.91       233\n",
      "     ai2_arc       0.91      0.95      0.93       222\n",
      "\n",
      "    accuracy                           0.93      1343\n",
      "   macro avg       0.93      0.93      0.93      1343\n",
      "weighted avg       0.93      0.93      0.93      1343\n",
      "\n"
     ]
    }
   ],
   "source": [
    "# Evaluate the classifier\n",
    "evaluate_classifier(clf, X_test, y_test, task_type_to_label)"
   ]
  }
 ],
 "metadata": {
  "kernelspec": {
   "display_name": "llm_env",
   "language": "python",
   "name": "python3"
  },
  "language_info": {
   "codemirror_mode": {
    "name": "ipython",
    "version": 3
   },
   "file_extension": ".py",
   "mimetype": "text/x-python",
   "name": "python",
   "nbconvert_exporter": "python",
   "pygments_lexer": "ipython3",
   "version": "3.10.15"
  }
 },
 "nbformat": 4,
 "nbformat_minor": 2
}
